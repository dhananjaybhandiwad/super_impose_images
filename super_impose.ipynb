{
 "cells": [
  {
   "cell_type": "code",
   "execution_count": null,
   "id": "903867f5-d011-42f8-9313-c9e61d3f403c",
   "metadata": {},
   "outputs": [],
   "source": [
    "#These are the utility functions to get subtracted images and Superimposed images. use them accordingly. \n",
    "import cv2\n",
    "\n",
    "#Function to calculate and save a subtracted image.\n",
    "#Input: two image paths used for subtracting images(example: Desktop/gish/images/weighted_final-4.png) and also path to save(example: Desktop/gish/images/weighted_final-4.png).\n",
    "def subtract_images(path_img_1,path_img_2,path_to_save):\n",
    "    img0 = cv2.imread(path_img_1)\n",
    "    img1 = cv2.imread(path_img_2)\n",
    "    diff = cv2.subtract(img1,img0)\n",
    "    cv2.imwrite(path_to_save, diff)\n",
    "    \n",
    "#Function to superimpose three subtracted images.\n",
    "#Input: path to the subtracted images from subtracted_images function above and also path to save superimposed image(example: \"Desktop/gish/images/weighted_final-4.png\")\n",
    "def superimpose_difference_images(path_diff_1,path_diff_2,path_diff_3,path_to_save):\n",
    "    diff_1 = cv2.imread(path_diff_1)\n",
    "    diff_2 = cv2.imread(path_diff_2)\n",
    "    diff_3= cv2.imread(path_diff_3)\n",
    "    x,y,z = np.where(img4 > 0)\n",
    "    diff_2[x,y] = [255,100,50]\n",
    "    x,y,z = np.where(img5 > 0)\n",
    "    diff_3[x,y] = [255,255,0]\n",
    "    dst = cv2.addWeighted(diff_1,1,diff_2,1,0)\n",
    "    dst_max = cv2.addWeighted(dst,1,diff_3,1,0)\n",
    "    cv2.imwrite(path_to_save, dst_max)"
   ]
  }
 ],
 "metadata": {
  "kernelspec": {
   "display_name": "Python 3 (ipykernel)",
   "language": "python",
   "name": "python3"
  },
  "language_info": {
   "codemirror_mode": {
    "name": "ipython",
    "version": 3
   },
   "file_extension": ".py",
   "mimetype": "text/x-python",
   "name": "python",
   "nbconvert_exporter": "python",
   "pygments_lexer": "ipython3",
   "version": "3.10.13"
  }
 },
 "nbformat": 4,
 "nbformat_minor": 5
}
